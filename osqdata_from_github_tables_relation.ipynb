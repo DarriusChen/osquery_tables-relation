{
 "cells": [
  {
   "cell_type": "code",
   "execution_count": 1,
   "id": "ea3411f5",
   "metadata": {},
   "outputs": [
    {
     "data": {
      "application/javascript": [
       "\n",
       "            setTimeout(function() {\n",
       "                var nbb_cell_id = 1;\n",
       "                var nbb_unformatted_code = \"%load_ext nb_black\";\n",
       "                var nbb_formatted_code = \"%load_ext nb_black\";\n",
       "                var nbb_cells = Jupyter.notebook.get_cells();\n",
       "                for (var i = 0; i < nbb_cells.length; ++i) {\n",
       "                    if (nbb_cells[i].input_prompt_number == nbb_cell_id) {\n",
       "                        if (nbb_cells[i].get_text() == nbb_unformatted_code) {\n",
       "                             nbb_cells[i].set_text(nbb_formatted_code);\n",
       "                        }\n",
       "                        break;\n",
       "                    }\n",
       "                }\n",
       "            }, 500);\n",
       "            "
      ],
      "text/plain": [
       "<IPython.core.display.Javascript object>"
      ]
     },
     "metadata": {},
     "output_type": "display_data"
    }
   ],
   "source": [
    "%load_ext nb_black"
   ]
  },
  {
   "cell_type": "markdown",
   "id": "6d1563fd",
   "metadata": {},
   "source": [
    "## Auto scraping data "
   ]
  },
  {
   "cell_type": "code",
   "execution_count": 2,
   "id": "b04a2efb",
   "metadata": {},
   "outputs": [
    {
     "data": {
      "application/javascript": [
       "\n",
       "            setTimeout(function() {\n",
       "                var nbb_cell_id = 2;\n",
       "                var nbb_unformatted_code = \"import requests\\nfrom bs4 import BeautifulSoup\\nimport json\";\n",
       "                var nbb_formatted_code = \"import requests\\nfrom bs4 import BeautifulSoup\\nimport json\";\n",
       "                var nbb_cells = Jupyter.notebook.get_cells();\n",
       "                for (var i = 0; i < nbb_cells.length; ++i) {\n",
       "                    if (nbb_cells[i].input_prompt_number == nbb_cell_id) {\n",
       "                        if (nbb_cells[i].get_text() == nbb_unformatted_code) {\n",
       "                             nbb_cells[i].set_text(nbb_formatted_code);\n",
       "                        }\n",
       "                        break;\n",
       "                    }\n",
       "                }\n",
       "            }, 500);\n",
       "            "
      ],
      "text/plain": [
       "<IPython.core.display.Javascript object>"
      ]
     },
     "metadata": {},
     "output_type": "display_data"
    }
   ],
   "source": [
    "import requests\n",
    "from bs4 import BeautifulSoup\n",
    "import json"
   ]
  },
  {
   "cell_type": "code",
   "execution_count": 3,
   "id": "1b56df37",
   "metadata": {},
   "outputs": [
    {
     "data": {
      "application/javascript": [
       "\n",
       "            setTimeout(function() {\n",
       "                var nbb_cell_id = 3;\n",
       "                var nbb_unformatted_code = \"# get the lastest version file name\\nall_version_url = \\\"https://github.com/osquery/osquery-site/tree/source/src/data/osquery_schema_versions\\\"\\nreq = requests.get(all_version_url)\\n\\nsoup = BeautifulSoup(req.text, \\\"html\\\")\\nall_versions = soup.find_all(\\\"a\\\", class_=\\\"js-navigation-open Link--primary\\\")\\nlast = all_versions[-1]\";\n",
       "                var nbb_formatted_code = \"# get the lastest version file name\\nall_version_url = \\\"https://github.com/osquery/osquery-site/tree/source/src/data/osquery_schema_versions\\\"\\nreq = requests.get(all_version_url)\\n\\nsoup = BeautifulSoup(req.text, \\\"html\\\")\\nall_versions = soup.find_all(\\\"a\\\", class_=\\\"js-navigation-open Link--primary\\\")\\nlast = all_versions[-1]\";\n",
       "                var nbb_cells = Jupyter.notebook.get_cells();\n",
       "                for (var i = 0; i < nbb_cells.length; ++i) {\n",
       "                    if (nbb_cells[i].input_prompt_number == nbb_cell_id) {\n",
       "                        if (nbb_cells[i].get_text() == nbb_unformatted_code) {\n",
       "                             nbb_cells[i].set_text(nbb_formatted_code);\n",
       "                        }\n",
       "                        break;\n",
       "                    }\n",
       "                }\n",
       "            }, 500);\n",
       "            "
      ],
      "text/plain": [
       "<IPython.core.display.Javascript object>"
      ]
     },
     "metadata": {},
     "output_type": "display_data"
    }
   ],
   "source": [
    "# get the lastest version file name\n",
    "all_version_url = \"https://github.com/osquery/osquery-site/tree/source/src/data/osquery_schema_versions\"\n",
    "req = requests.get(all_version_url)\n",
    "\n",
    "soup = BeautifulSoup(req.text, \"html\")\n",
    "all_versions = soup.find_all(\"a\", class_=\"js-navigation-open Link--primary\")\n",
    "last = all_versions[-1]"
   ]
  },
  {
   "cell_type": "code",
   "execution_count": 4,
   "id": "80ab9d2c",
   "metadata": {},
   "outputs": [
    {
     "data": {
      "application/javascript": [
       "\n",
       "            setTimeout(function() {\n",
       "                var nbb_cell_id = 4;\n",
       "                var nbb_unformatted_code = \"file_name = last.text\\ndata_url = f\\\"https://raw.githubusercontent.com/osquery/osquery-site/source/src/data/osquery_schema_versions/{file_name}\\\"\";\n",
       "                var nbb_formatted_code = \"file_name = last.text\\ndata_url = f\\\"https://raw.githubusercontent.com/osquery/osquery-site/source/src/data/osquery_schema_versions/{file_name}\\\"\";\n",
       "                var nbb_cells = Jupyter.notebook.get_cells();\n",
       "                for (var i = 0; i < nbb_cells.length; ++i) {\n",
       "                    if (nbb_cells[i].input_prompt_number == nbb_cell_id) {\n",
       "                        if (nbb_cells[i].get_text() == nbb_unformatted_code) {\n",
       "                             nbb_cells[i].set_text(nbb_formatted_code);\n",
       "                        }\n",
       "                        break;\n",
       "                    }\n",
       "                }\n",
       "            }, 500);\n",
       "            "
      ],
      "text/plain": [
       "<IPython.core.display.Javascript object>"
      ]
     },
     "metadata": {},
     "output_type": "display_data"
    }
   ],
   "source": [
    "file_name = last.text\n",
    "data_url = f\"https://raw.githubusercontent.com/osquery/osquery-site/source/src/data/osquery_schema_versions/{file_name}\""
   ]
  },
  {
   "cell_type": "code",
   "execution_count": 5,
   "id": "12d9b905",
   "metadata": {},
   "outputs": [
    {
     "data": {
      "application/javascript": [
       "\n",
       "            setTimeout(function() {\n",
       "                var nbb_cell_id = 5;\n",
       "                var nbb_unformatted_code = \"data = requests.get(data_url).json()\";\n",
       "                var nbb_formatted_code = \"data = requests.get(data_url).json()\";\n",
       "                var nbb_cells = Jupyter.notebook.get_cells();\n",
       "                for (var i = 0; i < nbb_cells.length; ++i) {\n",
       "                    if (nbb_cells[i].input_prompt_number == nbb_cell_id) {\n",
       "                        if (nbb_cells[i].get_text() == nbb_unformatted_code) {\n",
       "                             nbb_cells[i].set_text(nbb_formatted_code);\n",
       "                        }\n",
       "                        break;\n",
       "                    }\n",
       "                }\n",
       "            }, 500);\n",
       "            "
      ],
      "text/plain": [
       "<IPython.core.display.Javascript object>"
      ]
     },
     "metadata": {},
     "output_type": "display_data"
    }
   ],
   "source": [
    "data = requests.get(data_url).json()"
   ]
  },
  {
   "cell_type": "code",
   "execution_count": 8,
   "id": "50913557",
   "metadata": {},
   "outputs": [
    {
     "data": {
      "application/javascript": [
       "\n",
       "            setTimeout(function() {\n",
       "                var nbb_cell_id = 8;\n",
       "                var nbb_unformatted_code = \"with open(f\\\"tables_data/new_schema-{file_name}\\\", \\\"w\\\") as f:\\n    #     f.write(data)\\n    json.dump(data, f)\";\n",
       "                var nbb_formatted_code = \"with open(f\\\"tables_data/new_schema-{file_name}\\\", \\\"w\\\") as f:\\n    #     f.write(data)\\n    json.dump(data, f)\";\n",
       "                var nbb_cells = Jupyter.notebook.get_cells();\n",
       "                for (var i = 0; i < nbb_cells.length; ++i) {\n",
       "                    if (nbb_cells[i].input_prompt_number == nbb_cell_id) {\n",
       "                        if (nbb_cells[i].get_text() == nbb_unformatted_code) {\n",
       "                             nbb_cells[i].set_text(nbb_formatted_code);\n",
       "                        }\n",
       "                        break;\n",
       "                    }\n",
       "                }\n",
       "            }, 500);\n",
       "            "
      ],
      "text/plain": [
       "<IPython.core.display.Javascript object>"
      ]
     },
     "metadata": {},
     "output_type": "display_data"
    }
   ],
   "source": [
    "# output the latest version json file\n",
    "with open(f\"tables_data/new_schema-{file_name}\", \"w\") as f: \n",
    "    #     f.write(data)\n",
    "    json.dump(data, f)"
   ]
  },
  {
   "cell_type": "markdown",
   "id": "127b2552",
   "metadata": {},
   "source": [
    "# Process graph format data"
   ]
  },
  {
   "cell_type": "code",
   "execution_count": 9,
   "id": "ab2ba2f7",
   "metadata": {},
   "outputs": [
    {
     "data": {
      "application/javascript": [
       "\n",
       "            setTimeout(function() {\n",
       "                var nbb_cell_id = 9;\n",
       "                var nbb_unformatted_code = \"from functools import reduce\";\n",
       "                var nbb_formatted_code = \"from functools import reduce\";\n",
       "                var nbb_cells = Jupyter.notebook.get_cells();\n",
       "                for (var i = 0; i < nbb_cells.length; ++i) {\n",
       "                    if (nbb_cells[i].input_prompt_number == nbb_cell_id) {\n",
       "                        if (nbb_cells[i].get_text() == nbb_unformatted_code) {\n",
       "                             nbb_cells[i].set_text(nbb_formatted_code);\n",
       "                        }\n",
       "                        break;\n",
       "                    }\n",
       "                }\n",
       "            }, 500);\n",
       "            "
      ],
      "text/plain": [
       "<IPython.core.display.Javascript object>"
      ]
     },
     "metadata": {},
     "output_type": "display_data"
    }
   ],
   "source": [
    "from functools import reduce"
   ]
  },
  {
   "cell_type": "code",
   "execution_count": 10,
   "id": "48074b2c",
   "metadata": {},
   "outputs": [
    {
     "data": {
      "application/javascript": [
       "\n",
       "            setTimeout(function() {\n",
       "                var nbb_cell_id = 10;\n",
       "                var nbb_unformatted_code = \"def process_data(data,os_options):\\n    \\n    #choose which os you want to analyze\\n    os_tables = list(filter(lambda x: (os_options in x[\\\"platforms\\\"]), data))\\n    \\n    # each data : [{hash:(column_name,table_name)]\\n    tables = [[{col[\\\"name\\\"]+'-'+col[\\\"description\\\"]:(col['name'],table['name'])}\\\\\\n             for col in table['columns']] for table in os_tables]\\n    tables = [x for l in tables for x in l] # unpacking list of list\\n\\n    # create hashes set\\n    unique_hashes = list(\\n        map(\\n            lambda x: list(map(lambda y: y[\\\"name\\\"] + \\\"-\\\" + y[\\\"description\\\"], x[\\\"columns\\\"])),\\n            os_tables,\\n        )\\n    )\\n    unique_hashes = list(set([x for l in unique_hashes for x in l]))\\n    \\n    nodes = []\\n    edges = []\\n    \\n\\n    # nodes list\\n    \\n     # table name\\n    nodes+=[\\n        {\\n            \\\"id\\\":\\\"t-\\\"+t['name'],\\n            \\\"name\\\":t['name']\\n        } for t in os_tables]\\n        \\n\\n    # column name\\n    nodes+=[\\n        {\\n            \\\"id\\\":\\\"c-\\\"+list(c.keys())[0],\\n            \\\"name\\\":list(c.values())[0][0],\\n            'itemStyle': {'normal': {'color': 'blue'}}\\n        }\\n        for c in tables\\n    ]\\n    \\n    # makes nodes only contains unique value\\n    nodes = reduce(lambda acc,elem: acc+[elem] if not elem in acc else acc , nodes, []) \\n\\n    #  edge list\\n    \\n    for h in unique_hashes:\\n        same_hash_tables = list(filter(lambda x:list(x.keys())==[h],tables)) # \\u53d6\\u51fa\\u76f8\\u540chash\\u7684table\\u8cc7\\u6599\\n        col_id = \\\"c-\\\"+list(same_hash_tables[0].keys())[0]\\n        for t in same_hash_tables:\\n            t_id = \\\"t-\\\"+list(t.values())[0][1]\\n            if {\\\"source\\\": col_id, \\\"target\\\": t_id} not in edges:\\n                # edge_list\\n                edges.append({\\\"source\\\": col_id, \\\"target\\\": t_id})\\n\\n    return nodes, edges\";\n",
       "                var nbb_formatted_code = \"def process_data(data, os_options):\\n\\n    # choose which os you want to analyze\\n    os_tables = list(filter(lambda x: (os_options in x[\\\"platforms\\\"]), data))\\n\\n    # each data : [{hash:(column_name,table_name)]\\n    tables = [\\n        [\\n            {col[\\\"name\\\"] + \\\"-\\\" + col[\\\"description\\\"]: (col[\\\"name\\\"], table[\\\"name\\\"])}\\n            for col in table[\\\"columns\\\"]\\n        ]\\n        for table in os_tables\\n    ]\\n    tables = [x for l in tables for x in l]  # unpacking list of list\\n\\n    # create hashes set\\n    unique_hashes = list(\\n        map(\\n            lambda x: list(\\n                map(lambda y: y[\\\"name\\\"] + \\\"-\\\" + y[\\\"description\\\"], x[\\\"columns\\\"])\\n            ),\\n            os_tables,\\n        )\\n    )\\n    unique_hashes = list(set([x for l in unique_hashes for x in l]))\\n\\n    nodes = []\\n    edges = []\\n\\n    # nodes list\\n\\n    # table name\\n    nodes += [{\\\"id\\\": \\\"t-\\\" + t[\\\"name\\\"], \\\"name\\\": t[\\\"name\\\"]} for t in os_tables]\\n\\n    # column name\\n    nodes += [\\n        {\\n            \\\"id\\\": \\\"c-\\\" + list(c.keys())[0],\\n            \\\"name\\\": list(c.values())[0][0],\\n            \\\"itemStyle\\\": {\\\"normal\\\": {\\\"color\\\": \\\"blue\\\"}},\\n        }\\n        for c in tables\\n    ]\\n\\n    # makes nodes only contains unique value\\n    nodes = reduce(\\n        lambda acc, elem: acc + [elem] if not elem in acc else acc, nodes, []\\n    )\\n\\n    #  edge list\\n\\n    for h in unique_hashes:\\n        same_hash_tables = list(\\n            filter(lambda x: list(x.keys()) == [h], tables)\\n        )  # \\u53d6\\u51fa\\u76f8\\u540chash\\u7684table\\u8cc7\\u6599\\n        col_id = \\\"c-\\\" + list(same_hash_tables[0].keys())[0]\\n        for t in same_hash_tables:\\n            t_id = \\\"t-\\\" + list(t.values())[0][1]\\n            if {\\\"source\\\": col_id, \\\"target\\\": t_id} not in edges:\\n                # edge_list\\n                edges.append({\\\"source\\\": col_id, \\\"target\\\": t_id})\\n\\n    return nodes, edges\";\n",
       "                var nbb_cells = Jupyter.notebook.get_cells();\n",
       "                for (var i = 0; i < nbb_cells.length; ++i) {\n",
       "                    if (nbb_cells[i].input_prompt_number == nbb_cell_id) {\n",
       "                        if (nbb_cells[i].get_text() == nbb_unformatted_code) {\n",
       "                             nbb_cells[i].set_text(nbb_formatted_code);\n",
       "                        }\n",
       "                        break;\n",
       "                    }\n",
       "                }\n",
       "            }, 500);\n",
       "            "
      ],
      "text/plain": [
       "<IPython.core.display.Javascript object>"
      ]
     },
     "metadata": {},
     "output_type": "display_data"
    }
   ],
   "source": [
    "def process_data(data, os_options):\n",
    "\n",
    "    # choose which os you want to analyze\n",
    "    os_tables = list(filter(lambda x: (os_options in x[\"platforms\"]), data))\n",
    "\n",
    "    # each data : [{hash:(column_name,table_name)]\n",
    "    tables = [\n",
    "        [\n",
    "            {col[\"name\"] + \"-\" + col[\"description\"]: (col[\"name\"], table[\"name\"])}\n",
    "            for col in table[\"columns\"]\n",
    "        ]\n",
    "        for table in os_tables\n",
    "    ]\n",
    "    tables = [x for l in tables for x in l]  # unpacking list of list\n",
    "\n",
    "    # create hashes set\n",
    "    unique_hashes = list(\n",
    "        map(\n",
    "            lambda x: list(\n",
    "                map(lambda y: y[\"name\"] + \"-\" + y[\"description\"], x[\"columns\"])\n",
    "            ),\n",
    "            os_tables,\n",
    "        )\n",
    "    )\n",
    "    unique_hashes = list(set([x for l in unique_hashes for x in l]))\n",
    "\n",
    "    nodes = []\n",
    "    edges = []\n",
    "\n",
    "    # nodes list\n",
    "\n",
    "    # table name\n",
    "    nodes += [{\"id\": \"t-\" + t[\"name\"], \"name\": t[\"name\"]} for t in os_tables]\n",
    "\n",
    "    # column name\n",
    "    nodes += [\n",
    "        {\n",
    "            \"id\": \"c-\" + list(c.keys())[0],\n",
    "            \"name\": list(c.values())[0][0],\n",
    "            \"itemStyle\": {\"normal\": {\"color\": \"blue\"}},\n",
    "        }\n",
    "        for c in tables\n",
    "    ]\n",
    "\n",
    "    # makes nodes only contains unique value\n",
    "    nodes = reduce(\n",
    "        lambda acc, elem: acc + [elem] if not elem in acc else acc, nodes, []\n",
    "    )\n",
    "\n",
    "    #  edge list\n",
    "\n",
    "    for h in unique_hashes:\n",
    "        same_hash_tables = list(\n",
    "            filter(lambda x: list(x.keys()) == [h], tables)\n",
    "        )  # 取出相同hash的table資料\n",
    "        col_id = \"c-\" + list(same_hash_tables[0].keys())[0]\n",
    "        for t in same_hash_tables:\n",
    "            t_id = \"t-\" + list(t.values())[0][1]\n",
    "            if {\"source\": col_id, \"target\": t_id} not in edges:\n",
    "                # edge_list\n",
    "                edges.append({\"source\": col_id, \"target\": t_id})\n",
    "\n",
    "    return nodes, edges"
   ]
  },
  {
   "cell_type": "markdown",
   "id": "9c5f29b3",
   "metadata": {},
   "source": [
    "# Converting & Output\n",
    "### Convert the data as pyecharts format and ouput as html"
   ]
  },
  {
   "cell_type": "code",
   "execution_count": 11,
   "id": "3f7db29f",
   "metadata": {},
   "outputs": [
    {
     "data": {
      "application/javascript": [
       "\n",
       "            setTimeout(function() {\n",
       "                var nbb_cell_id = 11;\n",
       "                var nbb_unformatted_code = \"import pyecharts.options as opts\\nfrom pyecharts.charts import Graph\";\n",
       "                var nbb_formatted_code = \"import pyecharts.options as opts\\nfrom pyecharts.charts import Graph\";\n",
       "                var nbb_cells = Jupyter.notebook.get_cells();\n",
       "                for (var i = 0; i < nbb_cells.length; ++i) {\n",
       "                    if (nbb_cells[i].input_prompt_number == nbb_cell_id) {\n",
       "                        if (nbb_cells[i].get_text() == nbb_unformatted_code) {\n",
       "                             nbb_cells[i].set_text(nbb_formatted_code);\n",
       "                        }\n",
       "                        break;\n",
       "                    }\n",
       "                }\n",
       "            }, 500);\n",
       "            "
      ],
      "text/plain": [
       "<IPython.core.display.Javascript object>"
      ]
     },
     "metadata": {},
     "output_type": "display_data"
    }
   ],
   "source": [
    "import pyecharts.options as opts\n",
    "from pyecharts.charts import Graph"
   ]
  },
  {
   "cell_type": "code",
   "execution_count": 12,
   "id": "49f1a3c4",
   "metadata": {},
   "outputs": [
    {
     "data": {
      "application/javascript": [
       "\n",
       "            setTimeout(function() {\n",
       "                var nbb_cell_id = 12;\n",
       "                var nbb_unformatted_code = \"with open('tables_data/new_schema-5.3.0.json') as f:\\n    data = json.load(f)\";\n",
       "                var nbb_formatted_code = \"with open(\\\"tables_data/new_schema-5.3.0.json\\\") as f:\\n    data = json.load(f)\";\n",
       "                var nbb_cells = Jupyter.notebook.get_cells();\n",
       "                for (var i = 0; i < nbb_cells.length; ++i) {\n",
       "                    if (nbb_cells[i].input_prompt_number == nbb_cell_id) {\n",
       "                        if (nbb_cells[i].get_text() == nbb_unformatted_code) {\n",
       "                             nbb_cells[i].set_text(nbb_formatted_code);\n",
       "                        }\n",
       "                        break;\n",
       "                    }\n",
       "                }\n",
       "            }, 500);\n",
       "            "
      ],
      "text/plain": [
       "<IPython.core.display.Javascript object>"
      ]
     },
     "metadata": {},
     "output_type": "display_data"
    }
   ],
   "source": [
    "with open(\"tables_data/new_schema-5.3.0.json\") as f:\n",
    "    data = json.load(f)"
   ]
  },
  {
   "cell_type": "code",
   "execution_count": 13,
   "id": "f2545b3b",
   "metadata": {},
   "outputs": [
    {
     "data": {
      "text/plain": [
       "'C:\\\\Users\\\\darri\\\\Desktop\\\\Projects\\\\osquery_tables\\\\osquery_tables-relation\\\\osq_tables_windows(git).html'"
      ]
     },
     "execution_count": 13,
     "metadata": {},
     "output_type": "execute_result"
    },
    {
     "data": {
      "application/javascript": [
       "\n",
       "            setTimeout(function() {\n",
       "                var nbb_cell_id = 13;\n",
       "                var nbb_unformatted_code = \"(\\n    Graph(init_opts=opts.InitOpts(width=\\\"80vw\\\", height=\\\"50vw\\\"))\\n    .add(\\n        series_name=\\\"\\\",\\n        nodes=process_data(data,'windows')[0],\\n        links=process_data(data,'windows')[1],\\n        layout=\\\"force\\\",\\n        is_roam=True,\\n        is_focusnode=True,\\n        is_draggable=True,\\n        #         is_rotate_label=True,\\n        label_opts=opts.LabelOpts(is_show=False),\\n        linestyle_opts=opts.LineStyleOpts(width=0.5, curve=0.3, opacity=0.7),\\n        gravity=0.3,\\n        repulsion=60,\\n    )\\n    .set_global_opts(title_opts=opts.TitleOpts(title=\\\"osquery tables -Windows\\\"))\\n    .render(\\\"osq_tables_windows(git).html\\\")\\n)\";\n",
       "                var nbb_formatted_code = \"(\\n    Graph(init_opts=opts.InitOpts(width=\\\"80vw\\\", height=\\\"50vw\\\"))\\n    .add(\\n        series_name=\\\"\\\",\\n        nodes=process_data(data, \\\"windows\\\")[0],\\n        links=process_data(data, \\\"windows\\\")[1],\\n        layout=\\\"force\\\",\\n        is_roam=True,\\n        is_focusnode=True,\\n        is_draggable=True,\\n        #         is_rotate_label=True,\\n        label_opts=opts.LabelOpts(is_show=False),\\n        linestyle_opts=opts.LineStyleOpts(width=0.5, curve=0.3, opacity=0.7),\\n        gravity=0.3,\\n        repulsion=60,\\n    )\\n    .set_global_opts(title_opts=opts.TitleOpts(title=\\\"osquery tables -Windows\\\"))\\n    .render(\\\"osq_tables_windows(git).html\\\")\\n)\";\n",
       "                var nbb_cells = Jupyter.notebook.get_cells();\n",
       "                for (var i = 0; i < nbb_cells.length; ++i) {\n",
       "                    if (nbb_cells[i].input_prompt_number == nbb_cell_id) {\n",
       "                        if (nbb_cells[i].get_text() == nbb_unformatted_code) {\n",
       "                             nbb_cells[i].set_text(nbb_formatted_code);\n",
       "                        }\n",
       "                        break;\n",
       "                    }\n",
       "                }\n",
       "            }, 500);\n",
       "            "
      ],
      "text/plain": [
       "<IPython.core.display.Javascript object>"
      ]
     },
     "metadata": {},
     "output_type": "display_data"
    }
   ],
   "source": [
    "(\n",
    "    Graph(init_opts=opts.InitOpts(width=\"80vw\", height=\"50vw\"))\n",
    "    .add(\n",
    "        series_name=\"\",\n",
    "        nodes=process_data(data, \"windows\")[0],\n",
    "        links=process_data(data, \"windows\")[1],\n",
    "        layout=\"force\",\n",
    "        is_roam=True,\n",
    "        is_focusnode=True,\n",
    "        is_draggable=True,\n",
    "        #         is_rotate_label=True,\n",
    "        label_opts=opts.LabelOpts(is_show=False),\n",
    "        linestyle_opts=opts.LineStyleOpts(width=0.5, curve=0.3, opacity=0.7),\n",
    "        gravity=0.3,\n",
    "        repulsion=60,\n",
    "    )\n",
    "    .set_global_opts(title_opts=opts.TitleOpts(title=\"osquery tables -Windows\"))\n",
    "    .render(\"osq_tables_windows(git).html\")\n",
    ")"
   ]
  }
 ],
 "metadata": {
  "kernelspec": {
   "display_name": "Python 3 (ipykernel)",
   "language": "python",
   "name": "python3"
  },
  "language_info": {
   "codemirror_mode": {
    "name": "ipython",
    "version": 3
   },
   "file_extension": ".py",
   "mimetype": "text/x-python",
   "name": "python",
   "nbconvert_exporter": "python",
   "pygments_lexer": "ipython3",
   "version": "3.9.7"
  }
 },
 "nbformat": 4,
 "nbformat_minor": 5
}
